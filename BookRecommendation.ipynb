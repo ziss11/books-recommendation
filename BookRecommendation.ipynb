{
  "nbformat": 4,
  "nbformat_minor": 0,
  "metadata": {
    "colab": {
      "name": "BookRecommendation.ipynb",
      "provenance": [],
      "collapsed_sections": [],
      "authorship_tag": "ABX9TyMyyEcfqEve/NRU1KP1c/Ir"
    },
    "kernelspec": {
      "name": "python3",
      "display_name": "Python 3"
    },
    "language_info": {
      "name": "python"
    }
  },
  "cells": [
    {
      "cell_type": "markdown",
      "source": [
        "## **Clone Git Repository**\n",
        "\n",
        "---\n",
        "\n",
        "Clone git agar dapat load data langsung dari git repository. Dataset yang digunakan didapat kan dari kaggle: https://www.kaggle.com/datasets/arashnic/book-recommendation-dataset?select=Books.csv"
      ],
      "metadata": {
        "id": "6nx4JfR_Urqg"
      }
    },
    {
      "cell_type": "code",
      "source": [
        "!git clone https://github.com/ziszz/book-recommendation.git"
      ],
      "metadata": {
        "id": "VcG8m5-rGChW"
      },
      "execution_count": null,
      "outputs": []
    },
    {
      "cell_type": "markdown",
      "source": [
        "## **Import library yang diperlukan**\n",
        "\n",
        "---\n",
        "\n"
      ],
      "metadata": {
        "id": "4rH9NUo0U6HS"
      }
    },
    {
      "cell_type": "code",
      "execution_count": null,
      "metadata": {
        "id": "TPVKUwsIE552"
      },
      "outputs": [],
      "source": [
        "import pandas as pd\n",
        "import numpy as np\n",
        "import zipfile\n",
        "import glob\n",
        "import os\n",
        "import seaborn as sns\n",
        "import matplotlib.pyplot as plt\n",
        "import tensorflow as tf\n",
        "\n",
        "from zipfile import ZipFile\n",
        "from tensorflow.keras import layers\n",
        "from sklearn.model_selection import train_test_split\n",
        "from sklearn.preprocessing import MinMaxScaler\n",
        "from sklearn.feature_extraction.text import TfidfVectorizer\n",
        "from sklearn.metrics.pairwise import cosine_similarity"
      ]
    },
    {
      "cell_type": "markdown",
      "source": [
        "## **Data Loading**\n",
        "\n",
        "---\n",
        "\n"
      ],
      "metadata": {
        "id": "ADxTjV1sVCwr"
      }
    },
    {
      "cell_type": "code",
      "source": [
        "books = pd.read_csv('/content/book-recommendation/datasets/Books.csv', encoding='utf-8')\n",
        "ratings = pd.read_csv('/content/book-recommendation/datasets/Ratings.csv', encoding='utf-8')"
      ],
      "metadata": {
        "id": "HHPG-BqxFAMX"
      },
      "execution_count": null,
      "outputs": []
    },
    {
      "cell_type": "code",
      "source": [
        "books"
      ],
      "metadata": {
        "id": "OWq_0Ju9FDWa"
      },
      "execution_count": null,
      "outputs": []
    },
    {
      "cell_type": "code",
      "source": [
        "ratings"
      ],
      "metadata": {
        "id": "naquyVoNFFEM"
      },
      "execution_count": null,
      "outputs": []
    },
    {
      "cell_type": "markdown",
      "source": [
        "## **Exploratory Data**\n",
        "\n",
        "---\n",
        "\n",
        "### **Variabel-variabel pada dataset adalah sebagai berikut:**\n",
        "\n",
        "#### **Books.csv**\n",
        "  * ISBN: Kode pengidentifikasian buku yang bersifat unik.\n",
        "  * Book-Title: Judul Buku.\n",
        "  * Book-Author: Nama pengarang buku.\n",
        "  * Publisher: Pihak penerbit buku.\n",
        "  * Image-URL-S: URL yang menautkan ke gambar sampul berukuran small.\n",
        "  * Image-URL-M: URL yang menautkan ke gambar sampul berukuran medium.\n",
        "  * Image-URL-L: URL yang menautkan ke gambar sampul berukuran large.\n",
        "\n",
        "#### **Ratings.csv**\n",
        "  * User-ID: Nomer unik user yang memberikan rating.\n",
        "  * ISBN: Kode pengidentifikasian buku yang bersifat unik.\n",
        "  * Book-Rating: Skor dari rating yang diberikan.\n"
      ],
      "metadata": {
        "id": "YnbLr_BkVajC"
      }
    },
    {
      "cell_type": "markdown",
      "source": [
        "### **Menghitung jumlah Buku, User dan Rating**"
      ],
      "metadata": {
        "id": "572W8sbxYYBb"
      }
    },
    {
      "cell_type": "code",
      "source": [
        "print('Jumlah data buku: ', len(books['ISBN'].unique()))\n",
        "print('Jumlah data user yang memberikan rating: ', len(ratings['User-ID'].unique()))\n",
        "print('Jumlah data rating pada buku: ', len(ratings['ISBN'].unique()))"
      ],
      "metadata": {
        "id": "BluEdltXFGmp"
      },
      "execution_count": null,
      "outputs": []
    },
    {
      "cell_type": "markdown",
      "source": [
        "### **Mendapatkan info pada data**"
      ],
      "metadata": {
        "id": "n-J6CfhhZBeA"
      }
    },
    {
      "cell_type": "markdown",
      "source": [
        "Terlihat dari data buku di bawah. Semua kolom data memiliki type data object"
      ],
      "metadata": {
        "id": "zS7ZoN3yZWcN"
      }
    },
    {
      "cell_type": "code",
      "source": [
        "books.info()"
      ],
      "metadata": {
        "id": "3gGg190QFIcI"
      },
      "execution_count": null,
      "outputs": []
    },
    {
      "cell_type": "markdown",
      "source": [
        "Sedangkan, untuk data rating terdapat 2 tipe pada data yaitu numerik (int64) dan object."
      ],
      "metadata": {
        "id": "bd0og85_Zuqd"
      }
    },
    {
      "cell_type": "code",
      "source": [
        "ratings.info()"
      ],
      "metadata": {
        "id": "mCSzUdS0FJ2_"
      },
      "execution_count": null,
      "outputs": []
    },
    {
      "cell_type": "markdown",
      "source": [
        "Pada data buku terdapat 102022 author. Author dengan jumlah buku terbanyak yang terdapat dalam data adalah Agatha Christie dengan jumlah 632 buku."
      ],
      "metadata": {
        "id": "jpPshsDpsWQO"
      }
    },
    {
      "cell_type": "code",
      "source": [
        "author_list = books['Book-Author'].value_counts().keys()\n",
        "jumlah = books['Book-Author'].value_counts()\n",
        "\n",
        "author_count = pd.DataFrame({'authors': author_list, 'jumlah': jumlah}).reset_index(drop=True)\n",
        "author_count"
      ],
      "metadata": {
        "id": "rgXIgF4xFNgH"
      },
      "execution_count": null,
      "outputs": []
    },
    {
      "cell_type": "markdown",
      "source": [
        "Dari output di bawah, diketahui bahwa nilai maksimum rating adalah 10 dan nilai minimumnya adalah 0. Artinya, skala rating berkisar antara 0 hingga 10."
      ],
      "metadata": {
        "id": "T3ioZTgruM3n"
      }
    },
    {
      "cell_type": "code",
      "source": [
        "rating_list = ratings['Book-Rating'].value_counts().keys()\n",
        "jumlah = ratings['Book-Rating'].value_counts()\n",
        "\n",
        "rating_count = pd.DataFrame({'ratings': rating_list, 'jumlah': jumlah}).reset_index(drop=True)\n",
        "rating_count"
      ],
      "metadata": {
        "id": "p2uB1BYFFSb0"
      },
      "execution_count": null,
      "outputs": []
    },
    {
      "cell_type": "markdown",
      "source": [
        "### **Mengecek missing value**\n",
        "\n",
        "Jika dilihat dari data buku dan data rating di bawah. Terdapat sedikit missing value pada data buku, sedangkan pada data rating tidak memiliki missing value."
      ],
      "metadata": {
        "id": "6reGWl9ZpSNB"
      }
    },
    {
      "cell_type": "code",
      "source": [
        "books.isnull().sum()"
      ],
      "metadata": {
        "id": "Wavr7TnVFLS7"
      },
      "execution_count": null,
      "outputs": []
    },
    {
      "cell_type": "code",
      "source": [
        "ratings.isnull().sum()"
      ],
      "metadata": {
        "id": "C814r9FbFMxG"
      },
      "execution_count": null,
      "outputs": []
    },
    {
      "cell_type": "markdown",
      "source": [
        "## **Data Preparation**\n",
        "\n",
        "---\n",
        "\n",
        "### **Menghapus data yang tidak diperlukan dan merubah nama column**\n",
        "Sistem rekomendasi ini hanya memerlukan data author dan rating sebagai fitur untuk model. Beberapa kolom data seperti `'Year-Of-Publication', 'Publisher', 'Image-URL-S', 'Image-URL-M', 'Image-URL-L'` tidak akan digunakan untuk sistem rekomendasi ini. Jadi data tersebut bisa dihapus."
      ],
      "metadata": {
        "id": "jO6VxkbPq952"
      }
    },
    {
      "cell_type": "code",
      "source": [
        "unused_columns = ['Year-Of-Publication', 'Publisher', 'Image-URL-S', 'Image-URL-M', 'Image-URL-L']\n",
        "books.drop(unused_columns, axis=1, inplace=True)"
      ],
      "metadata": {
        "id": "aXtNb2XHLl6u"
      },
      "execution_count": null,
      "outputs": []
    },
    {
      "cell_type": "markdown",
      "source": [
        "### **Menggabungkan data buku dan rating menjadi satu DataFrame**"
      ],
      "metadata": {
        "id": "EzkgMzSa4kJj"
      }
    },
    {
      "cell_type": "code",
      "source": [
        "new_books = pd.merge(ratings, books, on='ISBN', how='left')\n",
        "new_books"
      ],
      "metadata": {
        "id": "mw8wXvhGKN5S"
      },
      "execution_count": null,
      "outputs": []
    },
    {
      "cell_type": "markdown",
      "source": [
        "### **Menyeleksi data**\n",
        "Data yang akan digunakan yaitu data buku dengan skor rating di atas 6. Sebab model tidak akan merekomendasikan data dengan rating rendah."
      ],
      "metadata": {
        "id": "zjgB7n2y8ibo"
      }
    },
    {
      "cell_type": "code",
      "source": [
        "new_books = new_books[new_books['Book-Rating'] != 0]\n",
        "new_books = new_books[new_books['Book-Rating'] > 6]\n",
        "new_books"
      ],
      "metadata": {
        "id": "Anc55SRH8lVS"
      },
      "execution_count": null,
      "outputs": []
    },
    {
      "cell_type": "markdown",
      "source": [
        "### **Mengatasi missing value**"
      ],
      "metadata": {
        "id": "0v9XEEB74voe"
      }
    },
    {
      "cell_type": "code",
      "source": [
        "new_books.isnull().sum()"
      ],
      "metadata": {
        "id": "IO_xNCZUMJw5"
      },
      "execution_count": null,
      "outputs": []
    },
    {
      "cell_type": "code",
      "source": [
        "new_books = new_books.dropna()\n",
        "new_books.shape"
      ],
      "metadata": {
        "id": "R_jiUfgZM_XH"
      },
      "execution_count": null,
      "outputs": []
    },
    {
      "cell_type": "code",
      "source": [
        "new_books.isnull().sum()"
      ],
      "metadata": {
        "id": "OiXtGMZw495C"
      },
      "execution_count": null,
      "outputs": []
    },
    {
      "cell_type": "markdown",
      "source": [
        "### **Membuang data duplikat**"
      ],
      "metadata": {
        "id": "p3tKW4PHBRQy"
      }
    },
    {
      "cell_type": "code",
      "source": [
        "new_books = new_books.drop_duplicates('ISBN')\n",
        "new_books"
      ],
      "metadata": {
        "id": "alephMv-SgEE"
      },
      "execution_count": null,
      "outputs": []
    },
    {
      "cell_type": "markdown",
      "source": [
        "## **Model Development**\n",
        "\n",
        "---\n",
        "\n",
        "### **Contet-Based Filtering**"
      ],
      "metadata": {
        "id": "IqmRAOWT5_Cz"
      }
    },
    {
      "cell_type": "code",
      "source": [
        "data = new_books\n",
        "data.sample(5)"
      ],
      "metadata": {
        "id": "MN0l3F0v54ZT"
      },
      "execution_count": null,
      "outputs": []
    },
    {
      "cell_type": "markdown",
      "source": [
        "#### **Tfid Vectorizer**"
      ],
      "metadata": {
        "id": "vSfDrl3K71IY"
      }
    },
    {
      "cell_type": "code",
      "source": [
        "tfid = TfidfVectorizer(token_pattern=r\"(?u)\\b\\w\\w+\\b\\s+\\w+\")\n",
        "tfid.fit(data['Book-Author']) \n",
        "\n",
        "tfid.get_feature_names() "
      ],
      "metadata": {
        "id": "AzhxVUDt6JuE"
      },
      "execution_count": null,
      "outputs": []
    },
    {
      "cell_type": "markdown",
      "source": [
        "#### **Transformasi data kedalam bentuk matriks**"
      ],
      "metadata": {
        "id": "HbqwN46T88Tb"
      }
    },
    {
      "cell_type": "code",
      "source": [
        "tfidf_matrix = tfid.fit_transform(data['Book-Author']) \n",
        "tfidf_matrix.shape"
      ],
      "metadata": {
        "id": "1-OV_vMP6VIn"
      },
      "execution_count": null,
      "outputs": []
    },
    {
      "cell_type": "markdown",
      "source": [
        "#### **Menghitung Cosine Similarity**"
      ],
      "metadata": {
        "id": "0VuKcdgM9OWt"
      }
    },
    {
      "cell_type": "code",
      "source": [
        "cosine_sim = cosine_similarity(tfidf_matrix) \n",
        "cosine_sim"
      ],
      "metadata": {
        "id": "RJgruWTp8OO5"
      },
      "execution_count": null,
      "outputs": []
    }
  ]
}